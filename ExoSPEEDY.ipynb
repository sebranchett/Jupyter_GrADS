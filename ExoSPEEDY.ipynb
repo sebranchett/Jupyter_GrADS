{
 "cells": [
  {
   "cell_type": "markdown",
   "metadata": {},
   "source": [
    "# Simple viewer for Grads files"
   ]
  },
  {
   "cell_type": "code",
   "execution_count": 1,
   "metadata": {},
   "outputs": [],
   "source": [
    "filename = \"attm102.ctl\""
   ]
  },
  {
   "cell_type": "code",
   "execution_count": 2,
   "metadata": {},
   "outputs": [],
   "source": [
    "import numpy as np"
   ]
  },
  {
   "cell_type": "code",
   "execution_count": 3,
   "metadata": {},
   "outputs": [],
   "source": [
    "f = open(filename, \"r\")\n",
    "lines = f.read()\n",
    "f.close\n",
    "\n",
    "lines = lines.replace(\"\\r\", \"\")\n",
    "lines = lines.split(\"\\n\")"
   ]
  },
  {
   "cell_type": "code",
   "execution_count": 4,
   "metadata": {},
   "outputs": [
    {
     "name": "stdout",
     "output_type": "stream",
     "text": [
      "DSET   ^attm102_%y4.grd                                                         \n",
      "TITLE   Means/variances from run no. xxx  102                                   \n",
      "UNDEF   9.999E+19                                                               \n",
      "OPTIONS sequential template big_endian                                          \n",
      "XDEF      96  LINEAR     0.000     3.750                                        \n",
      "YDEF      48  LEVELS   -87.159   -83.479   -79.777   -76.070   -72.362   -68.652\n",
      "   -64.942   -61.232   -57.521   -53.810   -50.099   -46.389   -42.678   -38.967\n",
      "   -35.256   -31.545   -27.833   -24.122   -20.411   -16.700   -12.989    -9.278\n",
      "    -5.567    -1.856     1.856     5.567     9.278    12.989    16.700    20.411\n",
      "    24.122    27.833    31.545    35.256    38.967    42.678    46.389    50.099\n",
      "    53.810    57.521    61.232    64.942    68.652    72.362    76.070    79.777\n",
      "    83.479    87.159\n",
      "ZDEF       8  LEVELS   925   850   700   500   300   200   100    30\n",
      "TDEF       3  LINEAR  1jan1979       1mo                                        \n",
      "VARS      41                                                                    \n",
      "GH         8  99  geopotential height               [m]                         \n",
      "TEMP       8  99  abs. temperature               [degK]                         \n",
      "U          8  99  zonal (u) wind                  [m/s]                         \n",
      "V          8  99  meridional (v) wind             [m/s]                         \n",
      "Q          8  99  specific humidity              [g/Kg]                         \n",
      "RH         8  99  relative humidity                 [%]                         \n",
      "OMEGA      8  99  pressure vertical velocity     [Pa/s]                         \n",
      "PSI        8  99  streamfunction           [10^6 m^2/s]                         \n",
      "CHI        8  99  velocity potential       [10^6 m^2/s]                         \n",
      "SP         0  99  surface pressure                [hPa]                         \n",
      "MSLP       0  99  mean-sea-level pressure         [hPa]                         \n",
      "ST         0  99  surface temperature            [degK]                         \n",
      "SKINT      0  99  skin temperature               [degK]                         \n",
      "SWAV       0  99  soil wetness availability         [%]                         \n",
      "ALB        0  99  surface albedo                    [%]                         \n",
      "U0         0  99  near-surface u-wind             [m/s]                         \n",
      "V0         0  99  near-surface v-wind             [m/s]                         \n",
      "TEMP0      0  99  near-surface air temperature   [degK]                         \n",
      "RH0        0  99  near-surface relative humidity    [%]                         \n",
      "CLC        0  99  cloud cover (deep clouds)         [%]                         \n",
      "CLSTR      0  99  cloud cover (strat. clouds)       [%]                         \n",
      "CLTOP      0  99  pressure at cloud top           [hPa]                         \n",
      "IPTOP      0  99  highest precipitation level index  []                         \n",
      "LST        0  99  land-surface temp.             [degK]                         \n",
      "SST        0  99   sea-surface temp.             [degK]                         \n",
      "SSTOM      0  99  ocean model sea-surface temp.  [degK]                         \n",
      "SSTA       0  99  SST anomaly w.r.t. obs. clim.  [degK]                         \n",
      "PRECLS     0  99  large-scale precipitation    [mm/day]                         \n",
      "PRECNV     0  99  convective precipitation     [mm/day]                         \n",
      "EVAP       0  99  evaporation                  [mm/day]                         \n",
      "USTR       0  99  u-stress                (dw.) [N/m^2]                         \n",
      "VSTR       0  99  v-stress                (dw.) [N/m^2]                         \n",
      "TSR        0  99  top shortwave rad.      (dw.) [W/m^2]                         \n",
      "OLR        0  99  outgoing longwave rad.  (uw.) [W/m^2]                         \n",
      "SSR        0  99  surface shortwave rad.  (dw.) [W/m^2]                         \n",
      "SLR        0  99  surface longwave rad.   (uw.) [W/m^2]                         \n",
      "SHF        0  99  sensible heat flux      (uw.) [W/m^2]                         \n",
      "LSHF       0  99  heat flux into land sfc (dw.) [W/m^2]                         \n",
      "SSHF       0  99  heat flux into  sea sfc (dw.) [W/m^2]                         \n",
      "TMIN       0  99  near-surface min temperature   [degK]                         \n",
      "TMAX       0  99  near-surface max temperature   [degK]                         \n",
      "ENDVARS                                                                         \n",
      "\n"
     ]
    }
   ],
   "source": [
    "for line in lines:\n",
    "    print(line)"
   ]
  },
  {
   "cell_type": "code",
   "execution_count": 5,
   "metadata": {},
   "outputs": [
    {
     "name": "stdout",
     "output_type": "stream",
     "text": [
      "{'DSET': '^attm102_%y4.grd', 'TITLE': 'Means/variances from run no. xxx  102', 'UNDEF': 9.999e+19, 'OPTIONS': 'sequential template big_endian', 'XDEF': array([  0.  ,   3.75,   7.5 ,  11.25,  15.  ,  18.75,  22.5 ,  26.25,\n",
      "        30.  ,  33.75,  37.5 ,  41.25,  45.  ,  48.75,  52.5 ,  56.25,\n",
      "        60.  ,  63.75,  67.5 ,  71.25,  75.  ,  78.75,  82.5 ,  86.25,\n",
      "        90.  ,  93.75,  97.5 , 101.25, 105.  , 108.75, 112.5 , 116.25,\n",
      "       120.  , 123.75, 127.5 , 131.25, 135.  , 138.75, 142.5 , 146.25,\n",
      "       150.  , 153.75, 157.5 , 161.25, 165.  , 168.75, 172.5 , 176.25,\n",
      "       180.  , 183.75, 187.5 , 191.25, 195.  , 198.75, 202.5 , 206.25,\n",
      "       210.  , 213.75, 217.5 , 221.25, 225.  , 228.75, 232.5 , 236.25,\n",
      "       240.  , 243.75, 247.5 , 251.25, 255.  , 258.75, 262.5 , 266.25,\n",
      "       270.  , 273.75, 277.5 , 281.25, 285.  , 288.75, 292.5 , 296.25,\n",
      "       300.  , 303.75, 307.5 , 311.25, 315.  , 318.75, 322.5 , 326.25,\n",
      "       330.  , 333.75, 337.5 , 341.25, 345.  , 348.75, 352.5 , 356.25]), 'YDEF': [-87.159, -83.479, -79.777, -76.07, -72.362, -68.652, -64.942, -61.232, -57.521, -53.81, -50.099, -46.389, -42.678, -38.967, -35.256, -31.545, -27.833, -24.122, -20.411, -16.7, -12.989, -9.278, -5.567, -1.856, 1.856, 5.567, 9.278, 12.989, 16.7, 20.411, 24.122, 27.833, 31.545, 35.256, 38.967, 42.678, 46.389, 50.099, 53.81, 57.521, 61.232, 64.942, 68.652, 72.362, 76.07, 79.777, 83.479, 87.159], 'ZDEF': [925.0, 850.0, 700.0, 500.0, 300.0, 200.0, 100.0, 30.0], 'TDEF': ['1jan1979', '1jan1979+1mo', '1jan1979+1mo+1mo'], 'VARS': 41, 'GH': 'geopotential height               [m]', 'TEMP': 'abs. temperature               [degK]', 'U': 'zonal (u) wind                  [m/s]', 'V': 'meridional (v) wind             [m/s]', 'Q': 'specific humidity              [g/Kg]', 'RH': 'relative humidity                 [%]', 'OMEGA': 'pressure vertical velocity     [Pa/s]', 'PSI': 'streamfunction           [10^6 m^2/s]', 'CHI': 'velocity potential       [10^6 m^2/s]', 'SP': 'surface pressure                [hPa]', 'MSLP': 'mean-sea-level pressure         [hPa]', 'ST': 'surface temperature            [degK]', 'SKINT': 'skin temperature               [degK]', 'SWAV': 'soil wetness availability         [%]', 'ALB': 'surface albedo                    [%]', 'U0': 'near-surface u-wind             [m/s]', 'V0': 'near-surface v-wind             [m/s]', 'TEMP0': 'near-surface air temperature   [degK]', 'RH0': 'near-surface relative humidity    [%]', 'CLC': 'cloud cover (deep clouds)         [%]', 'CLSTR': 'cloud cover (strat. clouds)       [%]', 'CLTOP': 'pressure at cloud top           [hPa]', 'IPTOP': 'highest precipitation level index  []', 'LST': 'land-surface temp.             [degK]', 'SST': 'sea-surface temp.             [degK]', 'SSTOM': 'ocean model sea-surface temp.  [degK]', 'SSTA': 'SST anomaly w.r.t. obs. clim.  [degK]', 'PRECLS': 'large-scale precipitation    [mm/day]', 'PRECNV': 'convective precipitation     [mm/day]', 'EVAP': 'evaporation                  [mm/day]', 'USTR': 'u-stress                (dw.) [N/m^2]', 'VSTR': 'v-stress                (dw.) [N/m^2]', 'TSR': 'top shortwave rad.      (dw.) [W/m^2]', 'OLR': 'outgoing longwave rad.  (uw.) [W/m^2]', 'SSR': 'surface shortwave rad.  (dw.) [W/m^2]', 'SLR': 'surface longwave rad.   (uw.) [W/m^2]', 'SHF': 'sensible heat flux      (uw.) [W/m^2]', 'LSHF': 'heat flux into land sfc (dw.) [W/m^2]', 'SSHF': 'heat flux into  sea sfc (dw.) [W/m^2]', 'TMIN': 'near-surface min temperature   [degK]', 'TMAX': 'near-surface max temperature   [degK]'}\n",
      "Values for:\n",
      "[['GH', 8], ['TEMP', 8], ['U', 8], ['V', 8], ['Q', 8], ['RH', 8], ['OMEGA', 8], ['PSI', 8], ['CHI', 8], ['SP', 0], ['MSLP', 0], ['ST', 0], ['SKINT', 0], ['SWAV', 0], ['ALB', 0], ['U0', 0], ['V0', 0], ['TEMP0', 0], ['RH0', 0], ['CLC', 0], ['CLSTR', 0], ['CLTOP', 0], ['IPTOP', 0], ['LST', 0], ['SST', 0], ['SSTOM', 0], ['SSTA', 0], ['PRECLS', 0], ['PRECNV', 0], ['EVAP', 0], ['USTR', 0], ['VSTR', 0], ['TSR', 0], ['OLR', 0], ['SSR', 0], ['SLR', 0], ['SHF', 0], ['LSHF', 0], ['SSHF', 0], ['TMIN', 0], ['TMAX', 0]]\n"
     ]
    }
   ],
   "source": [
    "metadata = {}\n",
    "varsKeys = []\n",
    "continuation = False\n",
    "for line in lines:\n",
    "    if not continuation:\n",
    "        try:\n",
    "            key, value = line.split(None, 1)\n",
    "        except:\n",
    "            key = line\n",
    "\n",
    "        key = key.strip()\n",
    "        \n",
    "        if key in [\"DSET\", \"TITLE\", \"OPTIONS\"]:\n",
    "            metadata[key] = value.strip()\n",
    "\n",
    "        elif key == \"UNDEF\":\n",
    "            metadata[key] = float(value)\n",
    "\n",
    "        elif key in [\"XDEF\", \"YDEF\", \"ZDEF\", \"TDEF\"]:\n",
    "            fields = line.split(None)\n",
    "            linlev = fields[2]\n",
    "            if linlev == \"LINEAR\":\n",
    "                if key != \"TDEF\":\n",
    "                    metadata[key] = np.arange(float(fields[3]), int(fields[1])*float(fields[4]), float(fields[4]))\n",
    "                else:\n",
    "                    nfields = int(fields[1])\n",
    "                    tags = []\n",
    "                    for i in range(nfields):\n",
    "                        tag = fields[3]+i*('+'+fields[4])\n",
    "                        tags.append(tag)\n",
    "                    metadata[key] = tags\n",
    "            elif linlev == \"LEVELS\":\n",
    "                levels = list(map(float, fields[3:]))\n",
    "                nlevels = int(fields[1])\n",
    "                if len(levels) == nlevels:\n",
    "                    metadata[key] = list(map(float, fields[3:]))\n",
    "                else:\n",
    "                    continuation = True\n",
    "            else:\n",
    "                print(\"Unknown data grid:\", linlev)\n",
    "\n",
    "        elif key == \"VARS\":\n",
    "            metadata[key] = int(value)\n",
    "\n",
    "        elif key != \"ENDVARS\" and key != \"\":\n",
    "            fields = line.split(None, 3)\n",
    "            metadata[key] = fields[3].strip()\n",
    "            varsKeys.append([key,int(fields[1])])\n",
    "                \n",
    "    else:  # continuation line\n",
    "        fields = line.split(None)\n",
    "        levels += list(map(float, fields))\n",
    "        if len(levels) == nlevels:\n",
    "            metadata[key] = levels\n",
    "            continuation = False\n",
    "\n",
    "if len(varsKeys) != metadata[\"VARS\"]:\n",
    "    print(\"There is a problem with the VARS metadata\")\n",
    "    print(\"VARS is \",metadata[\"VARS\"],\"but found\",len(varsKeys),\"variables\")\n",
    "\n",
    "print(metadata)\n",
    "\n",
    "print(\"Values for:\")\n",
    "print(varsKeys)"
   ]
  },
  {
   "cell_type": "code",
   "execution_count": 6,
   "metadata": {},
   "outputs": [
    {
     "name": "stdout",
     "output_type": "stream",
     "text": [
      "attm102_1979.grd\n"
     ]
    }
   ],
   "source": [
    "grads_filename = filename[:-4]+\"_\"+metadata[\"TDEF\"][0][-4:]+\".grd\"\n",
    "print(grads_filename)"
   ]
  },
  {
   "cell_type": "code",
   "execution_count": 7,
   "metadata": {},
   "outputs": [
    {
     "name": "stdout",
     "output_type": "stream",
     "text": [
      "number of values to be read is 1437696\n",
      "number of lines expected is 104\n"
     ]
    }
   ],
   "source": [
    "number_zeds = 0\n",
    "for label, nzed in varsKeys:\n",
    "    if nzed == 0:\n",
    "        number_zeds +=1\n",
    "    elif nzed == len(metadata[\"ZDEF\"]):\n",
    "        number_zeds += nzed\n",
    "    else:\n",
    "        print('Something unexpected happened')\n",
    "number_values = len(metadata[\"XDEF\"]) * len(metadata[\"YDEF\"]) * len(metadata[\"TDEF\"]) * number_zeds\n",
    "print('number of values to be read is',number_values)\n",
    "print('number of lines expected is',number_zeds)"
   ]
  },
  {
   "cell_type": "markdown",
   "metadata": {},
   "source": [
    "Expecting 179712 lines * 8 values = 1437696"
   ]
  },
  {
   "cell_type": "code",
   "execution_count": 8,
   "metadata": {},
   "outputs": [
    {
     "name": "stdout",
     "output_type": "stream",
     "text": [
      "{'GH': array([[ 8.7952496e+02,  8.8137830e+02,  8.8334375e+02, ...,\n",
      "         8.0944647e+02,  8.1007056e+02,  8.1068750e+02],\n",
      "       [ 1.5299567e+03,  1.5315533e+03,  1.5332560e+03, ...,\n",
      "         1.4517664e+03,  1.4525076e+03,  1.4532118e+03],\n",
      "       [ 2.9934231e+03,  2.9944011e+03,  2.9954734e+03, ...,\n",
      "         2.9090283e+03,  2.9098101e+03,  2.9105413e+03],\n",
      "       ...,\n",
      "       [-8.8174933e-01, -1.0957080e+00, -1.3084548e+00, ...,\n",
      "         1.8098174e+00,  1.8780378e+00,  1.9393727e+00],\n",
      "       [-1.7206018e+00, -2.0593064e+00, -2.3841836e+00, ...,\n",
      "         1.1578967e-01,  1.7833900e-01,  2.3691264e-01],\n",
      "       [-1.7945702e+00, -1.9360722e+00, -2.0740266e+00, ...,\n",
      "        -2.7171767e+00, -2.8219278e+00, -2.9105198e+00]], dtype=float32), 'TEMP': array([[-0.6192683 , -0.62305766, -0.6208038 , ...,  1.9245956 ,\n",
      "         1.9769349 ,  2.0258076 ],\n",
      "       [-1.0784962 , -1.08385   , -1.0786453 , ...,  2.5091438 ,\n",
      "         2.5025978 ,  2.480035  ],\n",
      "       [-2.1113465 , -2.1203263 , -2.108489  , ...,  2.6901777 ,\n",
      "         2.641129  ,  2.568126  ],\n",
      "       ...,\n",
      "       [57.087944  , 57.099007  , 57.091267  , ..., 66.604225  ,\n",
      "        66.85452   , 67.12164   ],\n",
      "       [25.115398  , 25.394077  , 25.656422  , ...,  0.77409256,\n",
      "         0.72698945,  0.6918694 ],\n",
      "       [ 0.        ,  0.        ,  0.        , ...,  0.        ,\n",
      "         0.        ,  0.        ]], dtype=float32), 'U': array([[-1.7938850e-02, -1.9436838e-02, -2.0893449e-02, ...,\n",
      "        -2.5853890e-03, -2.7430598e-03, -2.8303023e-03],\n",
      "       [-1.5145168e-02, -1.6230663e-02, -1.7272726e-02, ...,\n",
      "        -6.7313788e-03, -6.9177710e-03, -6.9841393e-03],\n",
      "       [-1.1633217e-02, -1.1527983e-02, -1.1374170e-02, ...,\n",
      "        -7.3205018e-03, -7.5827157e-03, -7.7167274e-03],\n",
      "       ...,\n",
      "       [-1.2371061e+00, -1.2442571e+00, -1.2529616e+00, ...,\n",
      "         2.9983554e+00,  3.0050817e+00,  3.0103600e+00],\n",
      "       [ 1.3639760e-01,  1.3111895e-01,  1.2545334e-01, ...,\n",
      "         7.2274679e-01,  7.1547610e-01,  7.0749933e-01],\n",
      "       [-3.4158704e-01, -3.4019071e-01, -3.3866423e-01, ...,\n",
      "         1.2215405e+00,  1.2182351e+00,  1.2151710e+00]], dtype=float32), 'V': array([[ 7.3423724e+02,  7.2860193e+02,  7.2295117e+02, ...,\n",
      "         1.0447731e+03,  1.0454596e+03,  1.0459938e+03],\n",
      "       [ 1.0344056e+03,  1.0344154e+03,  1.0344203e+03, ...,\n",
      "         1.0304211e+03,  1.0304761e+03,  1.0305358e+03],\n",
      "       [ 2.4178392e+02,  2.4131139e+02,  2.4083928e+02, ...,\n",
      "         2.4859935e+02,  2.4873436e+02,  2.4886966e+02],\n",
      "       ...,\n",
      "       [-1.8460065e-02, -1.4720526e-02, -1.0922929e-02, ...,\n",
      "        -3.2076077e-03, -3.1979477e-03, -3.1187329e-03],\n",
      "       [-4.2339776e-02, -4.3027081e-02, -4.3270800e-02, ...,\n",
      "         7.1637435e-03,  7.8120036e-03,  8.5115694e-03],\n",
      "       [ 1.7859344e+02,  1.7776093e+02,  1.7697865e+02, ...,\n",
      "         0.0000000e+00,  0.0000000e+00,  0.0000000e+00]], dtype=float32), 'Q': array([[168.21332 , 167.58597 , 166.93022 , ..., 169.03032 , 168.92105 ,\n",
      "        168.58002 ],\n",
      "       [109.34413 , 109.056114, 108.82686 , ...,   0.      ,   0.      ,\n",
      "          0.      ],\n",
      "       [ 53.46734 ,  53.14897 ,  52.841564, ...,  17.20691 ,  17.379505,\n",
      "         17.582413],\n",
      "       ...,\n",
      "       [219.11444 , 219.14212 , 219.17238 , ..., 212.03477 , 212.00317 ,\n",
      "        211.97186 ],\n",
      "       [217.33722 , 217.25983 , 217.18118 , ..., 205.03113 , 204.98291 ,\n",
      "        204.93716 ],\n",
      "       [217.22183 , 217.26196 , 217.30197 , ..., 185.34602 , 185.27379 ,\n",
      "        185.20518 ]], dtype=float32), 'RH': array([[ 1.5459378e-01,  2.1906117e-01,  2.8299630e-01, ...,\n",
      "        -2.8177059e+00, -2.4227581e+00, -2.0149720e+00],\n",
      "       [ 2.8394049e-01,  4.0471008e-01,  5.2427447e-01, ...,\n",
      "        -1.9705865e+00, -1.5677966e+00, -1.1651936e+00],\n",
      "       [ 5.7401466e-01,  8.2110351e-01,  1.0654645e+00, ...,\n",
      "        -7.5793505e-01, -4.5452762e-01, -1.6593617e-01],\n",
      "       ...,\n",
      "       [ 1.8895844e-02,  1.8414861e-02,  1.7914703e-02, ...,\n",
      "         1.2652651e-02,  1.2686902e-02,  1.2719575e-02],\n",
      "       [ 4.0556524e-02,  4.1435536e-02,  4.2287603e-02, ...,\n",
      "         1.7526667e-04,  1.6286862e-04,  1.5289006e-04],\n",
      "       [ 0.0000000e+00,  0.0000000e+00,  0.0000000e+00, ...,\n",
      "         0.0000000e+00,  0.0000000e+00,  0.0000000e+00]], dtype=float32), 'OMEGA': array([[  20.297026,   20.399734,   20.53005 , ...,   77.78025 ,\n",
      "          77.64759 ,   77.474335],\n",
      "       [  26.017096,   26.163694,   26.345774, ...,   81.28898 ,\n",
      "          81.089   ,   80.88167 ],\n",
      "       [  50.32578 ,   51.985954,   53.77988 , ...,   81.11973 ,\n",
      "          80.86537 ,   80.624   ],\n",
      "       ...,\n",
      "       [ 135.07584 ,  135.1193  ,  135.16736 , ..., -148.89525 ,\n",
      "        -148.87201 , -148.85329 ],\n",
      "       [ 111.17266 ,  111.25383 ,  111.336494, ..., -134.96013 ,\n",
      "        -134.99211 , -135.02776 ],\n",
      "       [  53.58682 ,   53.653446,   53.719376, ..., -134.60948 ,\n",
      "        -134.8338  , -135.0516  ]], dtype=float32), 'PSI': array([[ 1.1793748e+00,  1.1892724e+00,  1.1996002e+00, ...,\n",
      "        -2.2462089e+00, -2.2444723e+00, -2.2441361e+00],\n",
      "       [ 1.1929475e-01,  1.1931067e-01,  1.2014128e-01, ...,\n",
      "        -9.2555237e-01, -9.1820705e-01, -9.1091180e-01],\n",
      "       [-5.2553898e-01, -5.3436869e-01, -5.4275846e-01, ...,\n",
      "         1.3558120e-01,  1.3438895e-01,  1.3346209e-01],\n",
      "       ...,\n",
      "       [ 5.6547618e+00,  5.6369047e+00,  5.5714288e+00, ...,\n",
      "         5.6190476e+00,  5.6369047e+00,  5.6666665e+00],\n",
      "       [ 2.4505089e+02,  2.4459186e+02,  2.4413007e+02, ...,\n",
      "         9.9990001e+19,  9.9990001e+19,  9.9990001e+19],\n",
      "       [ 9.9990001e+19,  9.9990001e+19,  9.9990001e+19, ...,\n",
      "         2.4744939e+02,  2.4754630e+02,  2.4763335e+02]], dtype=float32), 'CHI': array([[9.99900008e+19, 9.99900008e+19, 9.99900008e+19, ...,\n",
      "        2.46321884e+02, 2.46338867e+02, 2.46341278e+02],\n",
      "       [9.99900008e+19, 9.99900008e+19, 9.99900008e+19, ...,\n",
      "        0.00000000e+00, 0.00000000e+00, 0.00000000e+00],\n",
      "       [1.22729599e-01, 1.33505195e-01, 1.45527273e-01, ...,\n",
      "        2.28150323e-01, 2.16596544e-01, 2.05975369e-01],\n",
      "       ...,\n",
      "       [1.09738027e+04, 1.09719795e+04, 1.09701973e+04, ...,\n",
      "        1.09229893e+04, 1.09212119e+04, 1.09194033e+04],\n",
      "       [1.52892314e+04, 1.52866973e+04, 1.52842178e+04, ...,\n",
      "        1.51050283e+04, 1.51024922e+04, 1.50999043e+04],\n",
      "       [2.27803438e+04, 2.27786270e+04, 2.27769414e+04, ...,\n",
      "        2.18430742e+04, 2.18387109e+04, 2.18343379e+04]], dtype=float32), 'SP': [array([250.19055, 250.02686, 249.8587 , ..., 249.75923, 249.7376 ,\n",
      "       249.70735], dtype=float32), array([247.38844, 247.22482, 247.05719, ..., 250.19977, 250.14581,\n",
      "       250.09238], dtype=float32), array([241.09418, 240.93047, 240.76381, ..., 244.27989, 244.23601,\n",
      "       244.19356], dtype=float32)], 'MSLP': [array([235.36165, 235.22159, 235.08307, ..., 229.6966 , 229.6613 ,\n",
      "       229.62593], dtype=float32), array([221.03438, 220.96931, 220.89941, ..., 216.68208, 216.64258,\n",
      "       216.60251], dtype=float32), array([215.40698, 215.40001, 215.39236, ..., 209.73773, 209.7124 ,\n",
      "       209.68562], dtype=float32)], 'ST': [array([213.10721, 213.04953, 212.99074, ..., 201.7836 , 201.73503,\n",
      "       201.68599], dtype=float32), array([209.91055, 209.94911, 209.98767, ..., 183.24043, 183.19008,\n",
      "       183.14153], dtype=float32), array([-0.4759721 , -0.38131458, -0.28681132, ...,  1.7773062 ,\n",
      "        1.6408339 ,  1.5019783 ], dtype=float32)], 'SKINT': [array([-0.9326577 , -0.74492913, -0.55851054, ...,  1.8217996 ,\n",
      "        1.7153603 ,  1.6018953 ], dtype=float32), array([-1.9620668, -1.5645876, -1.1710356, ...,  1.8860805,  1.7206123,\n",
      "        1.5485319], dtype=float32), array([0.8752805, 0.7325992, 0.6192367, ..., 2.4726992, 2.1505415,\n",
      "       1.8291683], dtype=float32)], 'SWAV': [array([ 0.5777017 ,  0.2589404 , -0.03806847, ...,  3.1577766 ,\n",
      "        2.7346485 ,  2.3119798 ], dtype=float32), array([ 0.48492634,  0.13087524, -0.20613791, ...,  3.516874  ,\n",
      "        3.051781  ,  2.5839782 ], dtype=float32), array([ 0.15572324, -0.28092882, -0.6949692 , ...,  3.8013642 ,\n",
      "        3.2607036 ,  2.7126706 ], dtype=float32)], 'ALB': [array([-0.8290594, -1.1457771, -1.4502064, ...,  3.755333 ,  2.8823469,\n",
      "        2.0136387], dtype=float32), array([-0.99383813, -0.9979898 , -0.9925623 , ..., -0.3019459 ,\n",
      "       -0.39515156, -0.46772194], dtype=float32), array([-1.9410646 , -1.9443766 , -1.9287192 , ..., -0.3663167 ,\n",
      "       -0.48069456, -0.57976854], dtype=float32)], 'U0': [array([-4.075967 , -4.0772967, -4.038509 , ..., -1.1839019, -1.2896188,\n",
      "       -1.3751433], dtype=float32), array([ 2.970419 ,  2.8362408,  2.703293 , ..., -2.8080144, -2.867877 ,\n",
      "       -2.8905737], dtype=float32), array([ 5.4336505,  5.33491  ,  5.2198467, ..., -4.519042 , -4.5718412,\n",
      "       -4.580842 ], dtype=float32)], 'V0': [array([ 5.87556  ,  5.7642317,  5.6303034, ..., -5.704887 , -5.7760754,\n",
      "       -5.8041162], dtype=float32), array([ 6.68016  ,  6.462521 ,  6.2123675, ..., -7.9759483, -8.079299 ,\n",
      "       -8.142947 ], dtype=float32), array([  5.197767 ,   5.0024986,   4.784451 , ..., -13.236144 ,\n",
      "       -13.240225 , -13.184517 ], dtype=float32)], 'TEMP0': [array([0.01966806, 0.0201576 , 0.02066137, ..., 0.43385372, 0.43198758,\n",
      "       0.42983773], dtype=float32), array([0.01966806, 0.0201576 , 0.02066137, ..., 0.52434474, 0.5215906 ,\n",
      "       0.5189502 ], dtype=float32), array([0.02174873, 0.02016012, 0.02066137, ..., 0.3632487 , 0.36133868,\n",
      "       0.35949   ], dtype=float32)], 'RH0': [array([0.17720784, 0.17300731, 0.16934183, ..., 0.09756705, 0.09745248,\n",
      "       0.09732378], dtype=float32), array([0.02034394, 0.02023999, 0.02014086, ..., 0.02301033, 0.0230514 ,\n",
      "       0.02308029], dtype=float32), array([0.01049455, 0.01013827, 0.00979775, ..., 0.00929738, 0.00927666,\n",
      "       0.00925945], dtype=float32)], 'CLC': [array([0.02134464, 0.02188634, 0.02243466, ..., 0.00012682, 0.00012127,\n",
      "       0.00011705], dtype=float32), array([0., 0., 0., ..., 0., 0., 0.], dtype=float32), array([ 4.4553375,  4.695806 ,  4.951268 , ..., 84.47031  , 84.28304  ,\n",
      "       84.10905  ], dtype=float32)], 'CLSTR': [array([ 5.340109 ,  5.630406 ,  5.9388638, ..., 87.813545 , 87.92867  ,\n",
      "       88.04735  ], dtype=float32), array([ 9.028521,  8.61154 ,  9.090114, ..., 85.33604 , 85.5578  ,\n",
      "       85.7691  ], dtype=float32), array([80.929794, 80.114105, 79.49545 , ..., 85.511696, 85.96338 ,\n",
      "       86.385956], dtype=float32)], 'CLTOP': [array([35.706184, 35.771503, 35.867626, ..., 65.706856, 66.21333 ,\n",
      "       66.69665 ], dtype=float32), array([24.301119, 23.524603, 22.823137, ..., 47.81604 , 47.805466,\n",
      "       47.830074], dtype=float32), array([32.139664 , 33.226147 , 34.346947 , ...,  1.0990686,  1.0561663,\n",
      "        1.0241108], dtype=float32)], 'IPTOP': [array([0., 0., 0., ..., 0., 0., 0.], dtype=float32), array([-5.7513755e-02, -5.9846211e-02, -6.2191520e-02, ...,\n",
      "        1.6932283e-03,  8.7291008e-04,  1.6222823e-05], dtype=float32), array([-0.04917721, -0.05096394, -0.05278696, ..., -0.00766416,\n",
      "       -0.00818607, -0.00869329], dtype=float32)], 'LST': [array([-0.02733835, -0.02725117, -0.02721643, ..., -0.01325614,\n",
      "       -0.01349659, -0.0136787 ], dtype=float32), array([-0.00652816, -0.00525736, -0.00397796, ..., -0.00616762,\n",
      "       -0.00628665, -0.00634154], dtype=float32), array([ 0.00417121,  0.00498192,  0.0058491 , ..., -0.00157328,\n",
      "       -0.00131033, -0.00098076], dtype=float32)], 'SST': [array([ 0.00420427,  0.00479614,  0.00545748, ..., -0.00100475,\n",
      "       -0.00068023, -0.00030262], dtype=float32), array([ 1.6215056e-03,  1.9057679e-03,  2.2277627e-03, ...,\n",
      "       -5.1999174e-05,  2.9746918e-05,  1.2975380e-04], dtype=float32), array([0.00032411, 0.00036171, 0.00040384, ..., 0.00024159, 0.00021795,\n",
      "       0.00019486], dtype=float32)], 'SSTOM': [array([12.094535 , 12.081299 , 12.067656 , ..., -0.7220748, -0.7331789,\n",
      "       -0.7453862], dtype=float32), array([18.791834, 18.748093, 18.704388, ..., -9.672511, -9.689222,\n",
      "       -9.707753], dtype=float32), array([ 39.177494,  39.114395,  39.04998 , ..., -32.077297, -32.106384,\n",
      "       -32.137505], dtype=float32)], 'SSTA': [array([ 79.089005,  79.14813 ,  79.20549 , ..., -74.272125, -74.335045,\n",
      "       -74.39938 ], dtype=float32), array([ 136.52376,  136.6274 ,  136.72955, ..., -136.72147, -136.80331,\n",
      "       -136.8862 ], dtype=float32), array([ 165.72427,  165.8296 ,  165.93324, ..., -169.01633, -169.11513,\n",
      "       -169.21521], dtype=float32)], 'PRECLS': [array([ 140.30595,  140.4364 ,  140.56265, ..., -152.10979, -152.26389,\n",
      "       -152.4196 ], dtype=float32), array([  91.47554 ,   91.584984,   91.689224, ..., -151.85704 ,\n",
      "       -152.1471  , -152.43587 ], dtype=float32), array([ 1.3928891 ,  1.3959302 ,  1.3997949 , ..., -0.78954494,\n",
      "       -0.78002733, -0.77109593], dtype=float32)], 'PRECNV': [array([-0.3617824 , -0.37082008, -0.37859863, ...,  0.11672693,\n",
      "        0.12145934,  0.12606171], dtype=float32), array([-0.6551181 , -0.67230415, -0.6888763 , ...,  0.01541195,\n",
      "        0.01306866,  0.01106324], dtype=float32), array([ 0.14129312,  0.14497752,  0.14869253, ..., -0.2548389 ,\n",
      "       -0.2613492 , -0.26736155], dtype=float32)], 'EVAP': [array([-0.9828765 , -0.98573565, -0.9892147 , ...,  0.94039017,\n",
      "        0.9353283 ,  0.92979306], dtype=float32), array([-0.9287207 , -0.9371614 , -0.94668704, ...,  0.84196955,\n",
      "        0.841098  ,  0.8391874 ], dtype=float32), array([0.04824552, 0.04651598, 0.04432893, ..., 0.37253508, 0.37801647,\n",
      "       0.38265243], dtype=float32)], 'USTR': [array([-0.02183988, -0.01042986,  0.00133064, ...,  0.24208993,\n",
      "        0.25605586,  0.27084658], dtype=float32), array([ 700.84326,  695.2394 ,  689.62036, ..., 1035.2882 , 1035.9443 ,\n",
      "       1036.4395 ], dtype=float32), array([ 997.9432 ,  997.82965,  997.71185, ..., 1020.8005 , 1020.8156 ,\n",
      "       1020.82855], dtype=float32)], 'VSTR': [array([238.32787, 237.8722 , 237.41519, ..., 245.69017, 245.77605,\n",
      "       245.86351], dtype=float32), array([235.47525, 235.00255, 234.52881, ..., 245.69017, 245.77605,\n",
      "       245.86351], dtype=float32), array([36.509903, 36.503357, 36.497757, ...,  0.      ,  0.      ,\n",
      "        0.      ], dtype=float32)], 'TSR': [array([60.      , 60.      , 60.      , ..., 59.647457, 59.620308,\n",
      "       59.590054], dtype=float32), array([-2.1194112, -1.72244  , -1.3140022, ...,  1.6681387,  1.5069902,\n",
      "        1.3469981], dtype=float32), array([-4.3860126 , -4.4698563 , -4.509406  , ..., -0.2902953 ,\n",
      "       -0.35946104, -0.4028644 ], dtype=float32)], 'OLR': [array([239.80936, 239.39354, 238.972  , ..., 249.03813, 249.00563,\n",
      "       248.96439], dtype=float32), array([ 9.06331 ,  9.740542, 10.475726, ..., 81.67028 , 81.199196,\n",
      "       80.75752 ], dtype=float32), array([59.857773, 60.403225, 61.131138, ..., 76.70796 , 76.89199 ,\n",
      "       77.10992 ], dtype=float32)], 'SSR': [array([1.8428342, 1.9808875, 2.1254995, ..., 3.9899907, 3.7854567,\n",
      "       3.5157344], dtype=float32), array([451.7847 , 442.5475 , 441.1253 , ..., 467.25296, 459.28015,\n",
      "       449.9849 ], dtype=float32), array([6.811828 , 6.7419353, 6.725806 , ..., 5.6021504, 5.548387 ,\n",
      "       5.5      ], dtype=float32)], 'SLR': [array([2.3832787e+02, 2.3787219e+02, 2.3741519e+02, ..., 9.9990001e+19,\n",
      "       9.9990001e+19, 9.9990001e+19], dtype=float32), array([9.9990001e+19, 9.9990001e+19, 9.9990001e+19, ..., 2.4569017e+02,\n",
      "       2.4577605e+02, 2.4586351e+02], dtype=float32), array([9.9990001e+19, 9.9990001e+19, 9.9990001e+19, ..., 2.4488576e+02,\n",
      "       2.4490950e+02, 2.4492802e+02], dtype=float32)], 'SHF': [array([9.999e+19, 9.999e+19, 9.999e+19, ..., 0.000e+00, 0.000e+00,\n",
      "       0.000e+00], dtype=float32), array([0.21950029, 0.21135883, 0.20403802, ..., 0.4712419 , 0.4673399 ,\n",
      "       0.46395627], dtype=float32), array([0., 0., 0., ..., 0., 0., 0.], dtype=float32)], 'LSHF': [array([ 0.01571249,  0.01477326,  0.01390743, ..., -0.01378731,\n",
      "       -0.01225405, -0.01071445], dtype=float32), array([-0.05917898, -0.04818369, -0.03706851, ...,  0.00783377,\n",
      "        0.00667195,  0.00554463], dtype=float32), array([-0.11742429, -0.11803883, -0.11742063, ..., -0.00609715,\n",
      "       -0.00615989, -0.00603937], dtype=float32)], 'SSHF': [array([35.21557  , 35.042168 , 34.860348 , ...,  5.971445 ,  5.9469566,\n",
      "        5.915204 ], dtype=float32), array([152.05638, 151.23221, 150.46542, ..., 159.1689 , 159.0161 ,\n",
      "       158.79596], dtype=float32), array([23.704151 , 23.670477 , 23.618225 , ...,  3.0424445,  3.0286942,\n",
      "        3.0121582], dtype=float32)], 'TMIN': [array([60.942574, 60.993042, 60.929447, ..., 43.786186, 44.04296 ,\n",
      "       44.294724], dtype=float32), array([-18.730923, -18.68116 , -18.571125, ..., -10.124899,  -9.874136,\n",
      "        -9.598945], dtype=float32), array([-19.9084  , -20.04631 , -20.150143, ...,   0.      ,   0.      ,\n",
      "         0.      ], dtype=float32)], 'TMAX': [array([  0.      ,   0.      ,   0.      , ..., -30.223846, -30.789412,\n",
      "       -31.377356], dtype=float32), array([232.79033, 232.35153, 231.91968, ..., 243.31068, 243.35501,\n",
      "       243.39714], dtype=float32), array([248.65422, 248.31068, 247.95763, ..., 254.5356 , 254.51323,\n",
      "       254.458  ], dtype=float32)]}\n"
     ]
    }
   ],
   "source": [
    "from scipy.io import FortranFile\n",
    "data = {}\n",
    "w, h = 8, 5;\n",
    "values = [[0 for x in range(w)] for y in range(h)]\n",
    "\n",
    "f = FortranFile(grads_filename, 'r', '>u4')\n",
    "for label, nzed in varsKeys:\n",
    "    if nzed == 0:\n",
    "        values = []\n",
    "        for it in range(len(metadata[\"TDEF\"])):\n",
    "            values.append(f.read_reals('>f4'))\n",
    "        data[label] = values\n",
    "    elif nzed == len(metadata[\"ZDEF\"]):\n",
    "        values = []\n",
    "        for it in range(len(metadata[\"TDEF\"])):\n",
    "            for ized in range(nzed):\n",
    "                values.append(f.read_reals('>f4'))\n",
    "        values = np.stack(values, axis=0)\n",
    "        data[label] = values\n",
    "    else:\n",
    "        print('Something unexpected happened')\n",
    "f.close()\n",
    "print(data)"
   ]
  },
  {
   "cell_type": "code",
   "execution_count": 9,
   "metadata": {},
   "outputs": [
    {
     "name": "stdout",
     "output_type": "stream",
     "text": [
      "41\n"
     ]
    }
   ],
   "source": [
    "print(metadata[\"VARS\"])"
   ]
  },
  {
   "cell_type": "code",
   "execution_count": 10,
   "metadata": {},
   "outputs": [
    {
     "data": {
      "text/plain": [
       "array([  0.  ,   3.75,   7.5 ,  11.25,  15.  ,  18.75,  22.5 ,  26.25,\n",
       "        30.  ,  33.75,  37.5 ,  41.25,  45.  ,  48.75,  52.5 ,  56.25,\n",
       "        60.  ,  63.75,  67.5 ,  71.25,  75.  ,  78.75,  82.5 ,  86.25,\n",
       "        90.  ,  93.75,  97.5 , 101.25, 105.  , 108.75, 112.5 , 116.25,\n",
       "       120.  , 123.75, 127.5 , 131.25, 135.  , 138.75, 142.5 , 146.25,\n",
       "       150.  , 153.75, 157.5 , 161.25, 165.  , 168.75, 172.5 , 176.25,\n",
       "       180.  , 183.75, 187.5 , 191.25, 195.  , 198.75, 202.5 , 206.25,\n",
       "       210.  , 213.75, 217.5 , 221.25, 225.  , 228.75, 232.5 , 236.25,\n",
       "       240.  , 243.75, 247.5 , 251.25, 255.  , 258.75, 262.5 , 266.25,\n",
       "       270.  , 273.75, 277.5 , 281.25, 285.  , 288.75, 292.5 , 296.25,\n",
       "       300.  , 303.75, 307.5 , 311.25, 315.  , 318.75, 322.5 , 326.25,\n",
       "       330.  , 333.75, 337.5 , 341.25, 345.  , 348.75, 352.5 , 356.25])"
      ]
     },
     "execution_count": 10,
     "metadata": {},
     "output_type": "execute_result"
    }
   ],
   "source": [
    "metadata[\"XDEF\"]"
   ]
  },
  {
   "cell_type": "code",
   "execution_count": 11,
   "metadata": {},
   "outputs": [
    {
     "data": {
      "text/plain": [
       "['1jan1979', '1jan1979+1mo', '1jan1979+1mo+1mo']"
      ]
     },
     "execution_count": 11,
     "metadata": {},
     "output_type": "execute_result"
    }
   ],
   "source": [
    "metadata[\"TDEF\"]"
   ]
  },
  {
   "cell_type": "code",
   "execution_count": 12,
   "metadata": {},
   "outputs": [
    {
     "name": "stdout",
     "output_type": "stream",
     "text": [
      "4608 96 48\n"
     ]
    }
   ],
   "source": [
    "print(len(data[\"TMAX\"][0]),len(metadata[\"XDEF\"]),len(metadata[\"YDEF\"]))"
   ]
  },
  {
   "cell_type": "code",
   "execution_count": 13,
   "metadata": {},
   "outputs": [],
   "source": [
    "%matplotlib inline\n",
    "\n",
    "import matplotlib.pyplot as plt"
   ]
  },
  {
   "cell_type": "code",
   "execution_count": 32,
   "metadata": {},
   "outputs": [],
   "source": [
    "heat = data[\"TMAX\"][0].reshape(len(metadata[\"YDEF\"]), len(metadata[\"XDEF\"]))\n",
    "lenX = len(metadata[\"XDEF\"])\n",
    "lenY = len(metadata[\"YDEF\"])"
   ]
  },
  {
   "cell_type": "code",
   "execution_count": 15,
   "metadata": {},
   "outputs": [],
   "source": [
    "import pandas as pd"
   ]
  },
  {
   "cell_type": "code",
   "execution_count": 33,
   "metadata": {},
   "outputs": [],
   "source": [
    "df = pd.DataFrame(heat, index= metadata[\"YDEF\"], columns=metadata[\"XDEF\"])\n",
    "#dfr = df.iloc[::-1]\n",
    "# df"
   ]
  },
  {
   "cell_type": "code",
   "execution_count": 34,
   "metadata": {},
   "outputs": [
    {
     "data": {
      "image/png": "[encoded data removed]",
      "text/plain": [
       "<Figure size 432x288 with 1 Axes>"
      ]
     },
     "metadata": {
      "needs_background": "light"
     },
     "output_type": "display_data"
    }
   ],
   "source": [
    "plt.pcolor(df)\n",
    "plt.yticks(np.arange(0, lenY, 5), df.index[0::5])\n",
    "plt.xticks(np.arange(0, lenX, 10), df.columns[0::10])\n",
    "plt.show()"
   ]
  }
 ],
 "metadata": {
  "kernelspec": {
   "display_name": "Python 3",
   "language": "python",
   "name": "python3"
  },
  "language_info": {
   "codemirror_mode": {
    "name": "ipython",
    "version": 3
   },
   "file_extension": ".py",
   "mimetype": "text/x-python",
   "name": "python",
   "nbconvert_exporter": "python",
   "pygments_lexer": "ipython3",
   "version": "3.6.8"
  }
 },
 "nbformat": 4,
 "nbformat_minor": 4
}
