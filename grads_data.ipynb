{
 "cells": [
  {
   "cell_type": "markdown",
   "metadata": {},
   "source": [
    "# Simple viewer for Grads files"
   ]
  },
  {
   "cell_type": "code",
   "execution_count": 1,
   "metadata": {},
   "outputs": [],
   "source": [
    "%matplotlib inline\n",
    "\n",
    "import ipywidgets as widgets\n",
    "from ipyfilechooser import FileChooser\n",
    "\n",
    "from read_grads import read_metadata, read_data\n",
    "from widget_selection import result_and_time_options, altitude_options\n",
    "from grads_plot import grads_plot"
   ]
  },
  {
   "cell_type": "markdown",
   "metadata": {},
   "source": [
    "## Select the grads control file by clicking on the 'Select' button\n",
    "\n",
    "Note that .ctl and the .grd files must be in the same directory."
   ]
  },
  {
   "cell_type": "code",
   "execution_count": 2,
   "metadata": {},
   "outputs": [
    {
     "data": {
      "application/vnd.jupyter.widget-view+json": {
       "model_id": "52b0fe636d8a45b0a666bacaee5e398e",
       "version_major": 2,
       "version_minor": 0
      },
      "text/plain": [
       "FileChooser(path='.', filename='', show_hidden='False')"
      ]
     },
     "metadata": {},
     "output_type": "display_data"
    }
   ],
   "source": [
    "# Create and display a FileChooser widget\n",
    "# fc = FileChooser('D:\\sbranchett\\My Documents\\Jupyter_GrADS')\n",
    "fc = FileChooser('.')\n",
    "display(fc)"
   ]
  },
  {
   "cell_type": "code",
   "execution_count": 3,
   "metadata": {},
   "outputs": [
    {
     "name": "stdout",
     "output_type": "stream",
     "text": [
      "!!! PLEASE SELECT A CONTROL FILE !!!\n",
      "Selected control file is attm101.ctl\n"
     ]
    }
   ],
   "source": [
    "filename = \"attm101.ctl\"\n",
    "ctl_file = fc.selected\n",
    "if ctl_file == None:\n",
    "    print('!!! PLEASE SELECT A CONTROL FILE !!!')\n",
    "else:\n",
    "    filename = ctl_file\n",
    "print('Selected control file is',filename)"
   ]
  },
  {
   "cell_type": "markdown",
   "metadata": {},
   "source": [
    "## Extract the metadata, find the results file and extract the data"
   ]
  },
  {
   "cell_type": "code",
   "execution_count": 4,
   "metadata": {},
   "outputs": [
    {
     "name": "stdout",
     "output_type": "stream",
     "text": [
      "Name of grads file is: attm101_2000.grd\n"
     ]
    }
   ],
   "source": [
    "metadata, varsKeys = read_metadata(filename)\n",
    "\n",
    "grads_filename = filename[:-4]+\"_\"+metadata[\"TDEF\"][0][-4:]+\".grd\"\n",
    "print('Name of grads file is:',grads_filename)\n",
    "\n",
    "data = read_data(metadata, varsKeys, grads_filename)"
   ]
  },
  {
   "cell_type": "markdown",
   "metadata": {},
   "source": [
    "# Select data to plot"
   ]
  },
  {
   "cell_type": "markdown",
   "metadata": {},
   "source": [
    "### Choose result type and time step"
   ]
  },
  {
   "cell_type": "code",
   "execution_count": 5,
   "metadata": {},
   "outputs": [
    {
     "data": {
      "application/vnd.jupyter.widget-view+json": {
       "model_id": "18e6d12b1e8c46cc915fa601e594fdae",
       "version_major": 2,
       "version_minor": 0
      },
      "text/plain": [
       "Dropdown(description='Date stamp:', options=(('1jan2000', 0), ('1jan2000+1mo', 1), ('1jan2000+1mo+1mo', 2)), v…"
      ]
     },
     "metadata": {},
     "output_type": "display_data"
    },
    {
     "data": {
      "application/vnd.jupyter.widget-view+json": {
       "model_id": "40125a1103cb4c22ac8cc09cc17f9041",
       "version_major": 2,
       "version_minor": 0
      },
      "text/plain": [
       "Dropdown(description='Result type:', options=(('GH:  geopotential height [m]', 0), ('TEMP:  abs. temperature […"
      ]
     },
     "metadata": {},
     "output_type": "display_data"
    }
   ],
   "source": [
    "time_widget, result_widget = result_and_time_options(metadata, varsKeys)\n",
    "\n",
    "display(time_widget)\n",
    "display(result_widget)"
   ]
  },
  {
   "cell_type": "markdown",
   "metadata": {},
   "source": [
    "### Choose altitude if necessary"
   ]
  },
  {
   "cell_type": "code",
   "execution_count": 6,
   "metadata": {},
   "outputs": [
    {
     "data": {
      "application/vnd.jupyter.widget-view+json": {
       "model_id": "2abfdcafdddd48c09962991689d5cf5b",
       "version_major": 2,
       "version_minor": 0
      },
      "text/plain": [
       "Dropdown(description='Altitude:', options=((925.0, 0), (850.0, 1), (700.0, 2), (500.0, 3), (300.0, 4), (200.0,…"
      ]
     },
     "metadata": {},
     "output_type": "display_data"
    }
   ],
   "source": [
    "time_step = time_widget.value\n",
    "\n",
    "result_index = result_widget.value\n",
    "result_type = varsKeys[result_index][0]\n",
    "result_zeds = varsKeys[result_index][1]\n",
    "\n",
    "if result_zeds != 0:\n",
    "    altitude_widget = altitude_options(metadata)\n",
    "    display(altitude_widget)"
   ]
  },
  {
   "cell_type": "markdown",
   "metadata": {},
   "source": [
    "## Plot data"
   ]
  },
  {
   "cell_type": "code",
   "execution_count": 8,
   "metadata": {
    "scrolled": true
   },
   "outputs": [
    {
     "data": {
      "image/png": "[encoded data removed]",
      "text/plain": [
       "<Figure size 864x360 with 2 Axes>"
      ]
     },
     "metadata": {
      "needs_background": "light"
     },
     "output_type": "display_data"
    }
   ],
   "source": [
    "altitude_step = 0\n",
    "if result_zeds != 0:\n",
    "    altitude_step = altitude_widget.value\n",
    "\n",
    "grads_plot(metadata, data, result_zeds, time_step, result_type, altitude_step).show()"
   ]
  }
 ],
 "metadata": {
  "kernelspec": {
   "display_name": "grads",
   "language": "python",
   "name": "grads"
  },
  "language_info": {
   "codemirror_mode": {
    "name": "ipython",
    "version": 3
   },
   "file_extension": ".py",
   "mimetype": "text/x-python",
   "name": "python",
   "nbconvert_exporter": "python",
   "pygments_lexer": "ipython3",
   "version": "3.8.3"
  }
 },
 "nbformat": 4,
 "nbformat_minor": 4
}
