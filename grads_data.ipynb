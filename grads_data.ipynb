{
 "cells": [
  {
   "cell_type": "markdown",
   "metadata": {},
   "source": [
    "# Simple viewer for Grads files"
   ]
  },
  {
   "cell_type": "code",
   "execution_count": 1,
   "metadata": {},
   "outputs": [],
   "source": [
    "%matplotlib inline\n",
    "\n",
    "import ipywidgets as widgets\n",
    "from ipyfilechooser import FileChooser\n",
    "from os import path\n",
    "\n",
    "import src.read_grads as read_grads\n",
    "import src.widget_selection as ws\n",
    "import src.grads_plot as grads_plot"
   ]
  },
  {
   "cell_type": "markdown",
   "metadata": {},
   "source": [
    "## Select a grads control file (.ctl) by clicking on the 'Select' button\n",
    "\n",
    "Note that the .ctl and the .grd files must be in the same directory.\n",
    "\n",
    "Test files can be found in the ```data``` directory."
   ]
  },
  {
   "cell_type": "code",
   "execution_count": 2,
   "metadata": {},
   "outputs": [
    {
     "data": {
      "application/vnd.jupyter.widget-view+json": {
       "model_id": "a8849102e65b4807a5bdf5b6b2f349b9",
       "version_major": 2,
       "version_minor": 0
      },
      "text/plain": [
       "FileChooser(path='.', filename='', show_hidden='False')"
      ]
     },
     "metadata": {},
     "output_type": "display_data"
    }
   ],
   "source": [
    "# Create and display a FileChooser widget\n",
    "# fc = FileChooser('D:\\sbranchett\\My Documents\\Jupyter_GrADS\\data')\n",
    "fc = FileChooser('.')\n",
    "display(fc)"
   ]
  },
  {
   "cell_type": "code",
   "execution_count": 3,
   "metadata": {},
   "outputs": [
    {
     "name": "stdout",
     "output_type": "stream",
     "text": [
      "Selected control file is D:\\sbranchett\\My Documents\\Jupyter_GrADS\\data\\soilw_7908clim.t30.land.ctl\n"
     ]
    }
   ],
   "source": [
    "filename = \"data/attm101.ctl\"\n",
    "ctl_file = fc.selected\n",
    "if ctl_file == None:\n",
    "    print('!!! PLEASE SELECT A CONTROL FILE !!!')\n",
    "elif ctl_file[-4:] != \".ctl\":\n",
    "    print('!!! PLEASE SELECT A CONTROL FILE WITH EXTENSION .ctl !!!')\n",
    "else:\n",
    "    filename = ctl_file\n",
    "print('Selected control file is',filename)"
   ]
  },
  {
   "cell_type": "markdown",
   "metadata": {},
   "source": [
    "## Extract the metadata, find the results file and extract the data"
   ]
  },
  {
   "cell_type": "code",
   "execution_count": 4,
   "metadata": {},
   "outputs": [
    {
     "name": "stdout",
     "output_type": "stream",
     "text": [
      "Name of grads file is: D:\\sbranchett\\My Documents\\Jupyter_GrADS\\data\\soilw_7908clim.t30.land.grd\n"
     ]
    }
   ],
   "source": [
    "metadata, varsKeys = read_grads.read_metadata(filename)\n",
    "\n",
    "first_attempt = filename[:-4]+\"_\"+metadata[\"TDEF\"][0][-4:]+\".grd\"\n",
    "second_attempt = filename[:-4]+\".grd\"\n",
    "\n",
    "if path.exists(first_attempt):\n",
    "    grads_filename = first_attempt\n",
    "elif path.exists(second_attempt):\n",
    "    grads_filename = second_attempt\n",
    "else:\n",
    "    print(\"!!! COULD NOT FIND THE .grd DATA FILE !!!\")\n",
    "    grads_filename = \"!!!\"\n",
    "\n",
    "print('Name of grads file is:',grads_filename)"
   ]
  },
  {
   "cell_type": "code",
   "execution_count": 5,
   "metadata": {},
   "outputs": [],
   "source": [
    "data = read_grads.read_data(metadata, varsKeys, grads_filename)"
   ]
  },
  {
   "cell_type": "markdown",
   "metadata": {},
   "source": [
    "# Select data to plot"
   ]
  },
  {
   "cell_type": "markdown",
   "metadata": {},
   "source": [
    "### Choose result type and time step"
   ]
  },
  {
   "cell_type": "code",
   "execution_count": 6,
   "metadata": {},
   "outputs": [
    {
     "data": {
      "application/vnd.jupyter.widget-view+json": {
       "model_id": "3b6c6e1636d04ecb856df6ae3e485eb7",
       "version_major": 2,
       "version_minor": 0
      },
      "text/plain": [
       "Dropdown(description='Date stamp:', options=(('1jan1981', 0), ('1jan1981+1mo', 1), ('1jan1981+1mo+1mo', 2), ('…"
      ]
     },
     "metadata": {},
     "output_type": "display_data"
    },
    {
     "data": {
      "application/vnd.jupyter.widget-view+json": {
       "model_id": "7ebe305af98d4a8eb9bc08cf05a78461",
       "version_major": 2,
       "version_minor": 0
      },
      "text/plain": [
       "Dropdown(description='Result type:', options=(('SWL1:  soil wetness (level 1) [mm]', 0), ('SWL2:  soil wetness…"
      ]
     },
     "metadata": {},
     "output_type": "display_data"
    }
   ],
   "source": [
    "time_widget, result_widget = ws.result_and_time_options(metadata, varsKeys)\n",
    "\n",
    "display(time_widget)\n",
    "display(result_widget)"
   ]
  },
  {
   "cell_type": "markdown",
   "metadata": {},
   "source": [
    "### Choose altitude if necessary"
   ]
  },
  {
   "cell_type": "code",
   "execution_count": 7,
   "metadata": {},
   "outputs": [],
   "source": [
    "time_step = time_widget.value\n",
    "\n",
    "result_index = result_widget.value\n",
    "result_type = varsKeys[result_index][0]\n",
    "result_zeds = varsKeys[result_index][1]\n",
    "\n",
    "if result_zeds > 1:\n",
    "    altitude_widget = ws.altitude_options(metadata)\n",
    "    display(altitude_widget)"
   ]
  },
  {
   "cell_type": "markdown",
   "metadata": {},
   "source": [
    "## Plot data"
   ]
  },
  {
   "cell_type": "code",
   "execution_count": 8,
   "metadata": {
    "scrolled": true
   },
   "outputs": [
    {
     "data": {
      "image/png": "[encoded data removed]",
      "text/plain": [
       "<Figure size 864x360 with 2 Axes>"
      ]
     },
     "metadata": {
      "needs_background": "light"
     },
     "output_type": "display_data"
    }
   ],
   "source": [
    "altitude_step = 0\n",
    "if result_zeds > 1:\n",
    "    altitude_step = altitude_widget.value\n",
    "\n",
    "grads_plot.grads_plot(metadata, data, result_zeds, time_step, result_type, altitude_step).show()"
   ]
  }
 ],
 "metadata": {
  "kernelspec": {
   "display_name": "grads",
   "language": "python",
   "name": "grads"
  },
  "language_info": {
   "codemirror_mode": {
    "name": "ipython",
    "version": 3
   },
   "file_extension": ".py",
   "mimetype": "text/x-python",
   "name": "python",
   "nbconvert_exporter": "python",
   "pygments_lexer": "ipython3",
   "version": "3.8.3"
  }
 },
 "nbformat": 4,
 "nbformat_minor": 4
}
