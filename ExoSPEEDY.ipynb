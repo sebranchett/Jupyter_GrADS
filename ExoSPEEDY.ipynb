{
 "cells": [
  {
   "cell_type": "markdown",
   "metadata": {},
   "source": [
    "# Simple viewer for Grads files"
   ]
  },
  {
   "cell_type": "code",
   "execution_count": 22,
   "metadata": {},
   "outputs": [],
   "source": [
    "filename = \"attm102.ctl\""
   ]
  },
  {
   "cell_type": "code",
   "execution_count": 23,
   "metadata": {},
   "outputs": [],
   "source": [
    "import numpy as np"
   ]
  },
  {
   "cell_type": "code",
   "execution_count": 24,
   "metadata": {},
   "outputs": [],
   "source": [
    "f = open(filename, \"r\")\n",
    "lines = f.read()\n",
    "f.close\n",
    "\n",
    "lines = lines.replace(\"\\r\", \"\")\n",
    "lines = lines.split(\"\\n\")"
   ]
  },
  {
   "cell_type": "code",
   "execution_count": 25,
   "metadata": {},
   "outputs": [],
   "source": [
    "# for line in lines:\n",
    "# print(line)"
   ]
  },
  {
   "cell_type": "markdown",
   "metadata": {},
   "source": [
    "## Extract the metadata"
   ]
  },
  {
   "cell_type": "code",
   "execution_count": 26,
   "metadata": {},
   "outputs": [
    {
     "name": "stdout",
     "output_type": "stream",
     "text": [
      "Values for:\n",
      "[['GH', 8], ['TEMP', 8], ['U', 8], ['V', 8], ['Q', 8], ['RH', 8], ['OMEGA', 8], ['PSI', 8], ['CHI', 8], ['SP', 0], ['MSLP', 0], ['ST', 0], ['SKINT', 0], ['SWAV', 0], ['ALB', 0], ['U0', 0], ['V0', 0], ['TEMP0', 0], ['RH0', 0], ['CLC', 0], ['CLSTR', 0], ['CLTOP', 0], ['IPTOP', 0], ['LST', 0], ['SST', 0], ['SSTOM', 0], ['SSTA', 0], ['PRECLS', 0], ['PRECNV', 0], ['EVAP', 0], ['USTR', 0], ['VSTR', 0], ['TSR', 0], ['OLR', 0], ['SSR', 0], ['SLR', 0], ['SHF', 0], ['LSHF', 0], ['SSHF', 0], ['TMIN', 0], ['TMAX', 0]]\n"
     ]
    }
   ],
   "source": [
    "metadata = {}\n",
    "varsKeys = []\n",
    "continuation = False\n",
    "for line in lines:\n",
    "    if not continuation:\n",
    "        try:\n",
    "            key, value = line.split(None, 1)\n",
    "        except:\n",
    "            key = line\n",
    "\n",
    "        key = key.strip()\n",
    "        \n",
    "        if key in [\"DSET\", \"TITLE\", \"OPTIONS\"]:\n",
    "            metadata[key] = value.strip()\n",
    "\n",
    "        elif key == \"UNDEF\":\n",
    "            metadata[key] = float(value)\n",
    "\n",
    "        elif key in [\"XDEF\", \"YDEF\", \"ZDEF\", \"TDEF\"]:\n",
    "            fields = line.split(None)\n",
    "            linlev = fields[2]\n",
    "            if linlev == \"LINEAR\":\n",
    "                if key != \"TDEF\":\n",
    "                    metadata[key] = np.arange(float(fields[3]), int(fields[1])*float(fields[4]), float(fields[4]))\n",
    "                else:\n",
    "                    nfields = int(fields[1])\n",
    "                    tags = []\n",
    "                    for i in range(nfields):\n",
    "                        tag = fields[3]+i*('+'+fields[4])\n",
    "                        tags.append(tag)\n",
    "                    metadata[key] = tags\n",
    "            elif linlev == \"LEVELS\":\n",
    "                levels = list(map(float, fields[3:]))\n",
    "                nlevels = int(fields[1])\n",
    "                if len(levels) == nlevels:\n",
    "                    metadata[key] = list(map(float, fields[3:]))\n",
    "                else:\n",
    "                    continuation = True\n",
    "            else:\n",
    "                print(\"Unknown data grid:\", linlev)\n",
    "\n",
    "        elif key == \"VARS\":\n",
    "            metadata[key] = int(value)\n",
    "\n",
    "        elif key != \"ENDVARS\" and key != \"\":\n",
    "            fields = line.split(None, 3)\n",
    "            metadata[key] = fields[3].strip()\n",
    "            varsKeys.append([key,int(fields[1])])\n",
    "                \n",
    "    else:  # continuation line\n",
    "        fields = line.split(None)\n",
    "        levels += list(map(float, fields))\n",
    "        if len(levels) == nlevels:\n",
    "            metadata[key] = levels\n",
    "            continuation = False\n",
    "\n",
    "if len(varsKeys) != metadata[\"VARS\"]:\n",
    "    print(\"There is a problem with the VARS metadata\")\n",
    "    print(\"VARS is \",metadata[\"VARS\"],\"but found\",len(varsKeys),\"variables\")\n",
    "\n",
    "# print(metadata)\n",
    "\n",
    "print(\"Values for:\")\n",
    "print(varsKeys)"
   ]
  },
  {
   "cell_type": "markdown",
   "metadata": {},
   "source": [
    "## Now find the results file and extract the data"
   ]
  },
  {
   "cell_type": "code",
   "execution_count": 27,
   "metadata": {},
   "outputs": [
    {
     "name": "stdout",
     "output_type": "stream",
     "text": [
      "attm102_1979.grd\n"
     ]
    }
   ],
   "source": [
    "grads_filename = filename[:-4]+\"_\"+metadata[\"TDEF\"][0][-4:]+\".grd\"\n",
    "print(grads_filename)"
   ]
  },
  {
   "cell_type": "code",
   "execution_count": 28,
   "metadata": {},
   "outputs": [
    {
     "name": "stdout",
     "output_type": "stream",
     "text": [
      "number of values to read in is 1437696\n"
     ]
    }
   ],
   "source": [
    "number_zeds = 0\n",
    "for label, nzed in varsKeys:\n",
    "    if nzed == 0:\n",
    "        number_zeds +=1\n",
    "    elif nzed == len(metadata[\"ZDEF\"]):\n",
    "        number_zeds += nzed\n",
    "    else:\n",
    "        print('Something unexpected happened')\n",
    "number_values = len(metadata[\"XDEF\"]) * len(metadata[\"YDEF\"]) * len(metadata[\"TDEF\"]) * number_zeds\n",
    "print('number of values to read in is',number_values)"
   ]
  },
  {
   "cell_type": "code",
   "execution_count": 29,
   "metadata": {},
   "outputs": [],
   "source": [
    "from scipy.io import FortranFile\n",
    "data = {}\n",
    "w, h = 8, 5;\n",
    "values = [[0 for x in range(w)] for y in range(h)]\n",
    "\n",
    "f = FortranFile(grads_filename, 'r', '>u4')\n",
    "for label, nzed in varsKeys:\n",
    "    if nzed == 0:\n",
    "        values = []\n",
    "        for it in range(len(metadata[\"TDEF\"])):\n",
    "            values.append(f.read_reals('>f4'))\n",
    "        data[label] = values\n",
    "    elif nzed == len(metadata[\"ZDEF\"]):\n",
    "        values = []\n",
    "        for it in range(len(metadata[\"TDEF\"])):\n",
    "            for ized in range(nzed):\n",
    "                values.append(f.read_reals('>f4'))\n",
    "        values = np.stack(values, axis=0)\n",
    "        data[label] = values\n",
    "    else:\n",
    "        print('Something unexpected happened')\n",
    "f.close()\n",
    "# print(data)"
   ]
  },
  {
   "cell_type": "code",
   "execution_count": 30,
   "metadata": {},
   "outputs": [],
   "source": [
    "%matplotlib inline\n",
    "\n",
    "import matplotlib.pyplot as plt\n",
    "import pandas as pd"
   ]
  },
  {
   "cell_type": "code",
   "execution_count": 31,
   "metadata": {},
   "outputs": [],
   "source": [
    "result_type = \"TMAX\""
   ]
  },
  {
   "cell_type": "markdown",
   "metadata": {},
   "source": [
    "Need to read this very carefully:\n",
    "https://ipywidgets.readthedocs.io/en/latest/user_install.html\n",
    "\n",
    "nodejs didn't install properly on my Windows 7 machine, so I installed it from internet.\n",
    "\n",
    "Now works on Jupyter Notebook, but not on Jupyter Lab"
   ]
  },
  {
   "cell_type": "code",
   "execution_count": 32,
   "metadata": {},
   "outputs": [],
   "source": [
    "import ipywidgets as widgets"
   ]
  },
  {
   "cell_type": "code",
   "execution_count": 33,
   "metadata": {},
   "outputs": [
    {
     "name": "stdout",
     "output_type": "stream",
     "text": [
      "[('1jan1979', 0), ('1jan1979+1mo', 1), ('1jan1979+1mo+1mo', 2)]\n"
     ]
    }
   ],
   "source": [
    "date_options = list(zip(metadata[\"TDEF\"], range(0, len(metadata[\"TDEF\"]))))\n",
    "print(date_options)"
   ]
  },
  {
   "cell_type": "code",
   "execution_count": 34,
   "metadata": {},
   "outputs": [
    {
     "data": {
      "application/vnd.jupyter.widget-view+json": {
       "model_id": "3dbb4e7774c2491a975b802d754c4f3f",
       "version_major": 2,
       "version_minor": 0
      },
      "text/plain": [
       "Dropdown(description='Choose date:', options=(('1jan1979', 0), ('1jan1979+1mo', 1), ('1jan1979+1mo+1mo', 2)), …"
      ]
     },
     "metadata": {},
     "output_type": "display_data"
    }
   ],
   "source": [
    "w = widgets.Dropdown(\n",
    "    options=date_options,\n",
    "    value=0,\n",
    "    description='Choose date:',\n",
    ")\n",
    "display(w)"
   ]
  },
  {
   "cell_type": "code",
   "execution_count": 41,
   "metadata": {
    "scrolled": true
   },
   "outputs": [
    {
     "data": {
      "image/png": "[encoded data removed]",
      "text/plain": [
       "<Figure size 864x360 with 2 Axes>"
      ]
     },
     "metadata": {
      "needs_background": "light"
     },
     "output_type": "display_data"
    }
   ],
   "source": [
    "time_step = w.value\n",
    "\n",
    "heat = data[result_type][time_step].reshape(len(metadata[\"YDEF\"]), len(metadata[\"XDEF\"]))\n",
    "lenX = len(metadata[\"XDEF\"])\n",
    "lenY = len(metadata[\"YDEF\"])\n",
    "\n",
    "df = pd.DataFrame(heat, index= metadata[\"YDEF\"], columns=metadata[\"XDEF\"])\n",
    "\n",
    "plt.figure(0,(12.,5.))\n",
    "heatmap = plt.pcolor(df)\n",
    "plt.title(result_type+\" \"+metadata[\"TDEF\"][time_step])\n",
    "plt.yticks(np.arange(0, lenY, 5), df.index[0::5])\n",
    "plt.xticks(np.arange(0, lenX, 10), df.columns[0::10])\n",
    "plt.colorbar(heatmap)\n",
    "plt.show()"
   ]
  }
 ],
 "metadata": {
  "kernelspec": {
   "display_name": "Python 3",
   "language": "python",
   "name": "python3"
  },
  "language_info": {
   "codemirror_mode": {
    "name": "ipython",
    "version": 3
   },
   "file_extension": ".py",
   "mimetype": "text/x-python",
   "name": "python",
   "nbconvert_exporter": "python",
   "pygments_lexer": "ipython3",
   "version": "3.6.8"
  }
 },
 "nbformat": 4,
 "nbformat_minor": 4
}
