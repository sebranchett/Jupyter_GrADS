{
 "cells": [
  {
   "cell_type": "markdown",
   "metadata": {},
   "source": [
    "# Simple viewer for Grads files"
   ]
  },
  {
   "cell_type": "markdown",
   "metadata": {},
   "source": [
    "Need to read this very carefully:\n",
    "https://ipywidgets.readthedocs.io/en/latest/user_install.html\n",
    "\n",
    "nodejs didn't install properly on my Windows 7 machine, so I installed it from internet.\n",
    "\n",
    "Now works on Jupyter Notebook, but not on Jupyter Lab."
   ]
  },
  {
   "cell_type": "code",
   "execution_count": 1,
   "metadata": {},
   "outputs": [],
   "source": [
    "%matplotlib inline\n",
    "\n",
    "import ipywidgets as widgets\n",
    "import numpy as np\n",
    "import matplotlib.pyplot as plt\n",
    "import pandas as pd\n",
    "\n",
    "from read_grads import read_metadata, read_data\n",
    "from widget_selection import result_and_time_options, altitude_options"
   ]
  },
  {
   "cell_type": "markdown",
   "metadata": {},
   "source": [
    "## Select the grads control file by clicking on the 'Upload' button"
   ]
  },
  {
   "cell_type": "code",
   "execution_count": 2,
   "metadata": {},
   "outputs": [
    {
     "data": {
      "application/vnd.jupyter.widget-view+json": {
       "model_id": "541349f8d11948e593971aa8f212d683",
       "version_major": 2,
       "version_minor": 0
      },
      "text/plain": [
       "FileUpload(value={}, accept='.ctl', description='Upload')"
      ]
     },
     "metadata": {},
     "output_type": "display_data"
    }
   ],
   "source": [
    "uploader = widgets.FileUpload(accept=\".ctl\", multiple=False)\n",
    "display(uploader)"
   ]
  },
  {
   "cell_type": "code",
   "execution_count": 3,
   "metadata": {},
   "outputs": [
    {
     "name": "stdout",
     "output_type": "stream",
     "text": [
      "!!! UNEXPECTED NUMBER OF CONTROL FILES !!! 0\n",
      "Selected control file is attm101.ctl\n"
     ]
    }
   ],
   "source": [
    "filename = \"attm101.ctl\"\n",
    "uploaded_file = uploader.value\n",
    "if len(uploaded_file) != 1: print('!!! UNEXPECTED NUMBER OF CONTROL FILES !!!', len(uploaded_file))\n",
    "for key in uploaded_file:\n",
    "    filename = key\n",
    "print('Selected control file is',filename)"
   ]
  },
  {
   "cell_type": "markdown",
   "metadata": {},
   "source": [
    "## Extract the metadata, find the results file and extract the data"
   ]
  },
  {
   "cell_type": "code",
   "execution_count": 4,
   "metadata": {},
   "outputs": [
    {
     "name": "stdout",
     "output_type": "stream",
     "text": [
      "Name of grads file is: attm101_2000.grd\n"
     ]
    }
   ],
   "source": [
    "metadata, varsKeys = read_metadata(filename)\n",
    "\n",
    "grads_filename = filename[:-4]+\"_\"+metadata[\"TDEF\"][0][-4:]+\".grd\"\n",
    "print('Name of grads file is:',grads_filename)\n",
    "\n",
    "data = read_data(metadata, varsKeys, grads_filename)"
   ]
  },
  {
   "cell_type": "markdown",
   "metadata": {},
   "source": [
    "## Select data to plot"
   ]
  },
  {
   "cell_type": "markdown",
   "metadata": {},
   "source": [
    "### Choose result type and time step"
   ]
  },
  {
   "cell_type": "code",
   "execution_count": 5,
   "metadata": {},
   "outputs": [
    {
     "data": {
      "application/vnd.jupyter.widget-view+json": {
       "model_id": "31f7a4acbe344a779fb72822282f9476",
       "version_major": 2,
       "version_minor": 0
      },
      "text/plain": [
       "Dropdown(description='Date stamp:', options=(('1jan2000', 0), ('1jan2000+1mo', 1), ('1jan2000+1mo+1mo', 2)), v…"
      ]
     },
     "metadata": {},
     "output_type": "display_data"
    },
    {
     "data": {
      "application/vnd.jupyter.widget-view+json": {
       "model_id": "f8e8d5c1a0894ccabe8d57298a5f60c7",
       "version_major": 2,
       "version_minor": 0
      },
      "text/plain": [
       "Dropdown(description='Result type:', options=(('GH', 0), ('TEMP', 1), ('U', 2), ('V', 3), ('Q', 4), ('RH', 5),…"
      ]
     },
     "metadata": {},
     "output_type": "display_data"
    }
   ],
   "source": [
    "time_widget, result_widget = result_and_time_options(metadata, varsKeys)\n",
    "\n",
    "display(time_widget)\n",
    "display(result_widget)"
   ]
  },
  {
   "cell_type": "markdown",
   "metadata": {},
   "source": [
    "### Choose altitude if necessary"
   ]
  },
  {
   "cell_type": "code",
   "execution_count": 8,
   "metadata": {},
   "outputs": [],
   "source": [
    "time_step = time_widget.value\n",
    "\n",
    "result_index = result_widget.value\n",
    "result_type = varsKeys[result_index][0]\n",
    "result_zeds = varsKeys[result_index][1]\n",
    "\n",
    "if result_zeds != 0:\n",
    "    altitude_widget = altitude_options(metadata)\n",
    "    display(altitude_widget)"
   ]
  },
  {
   "cell_type": "markdown",
   "metadata": {},
   "source": [
    "## Plot data"
   ]
  },
  {
   "cell_type": "code",
   "execution_count": 9,
   "metadata": {
    "scrolled": true
   },
   "outputs": [
    {
     "data": {
      "image/png": "[encoded data removed]",
      "text/plain": [
       "<Figure size 864x360 with 2 Axes>"
      ]
     },
     "metadata": {
      "needs_background": "light"
     },
     "output_type": "display_data"
    }
   ],
   "source": [
    "if result_zeds != 0:\n",
    "    altitude_step = altitude_widget.value\n",
    "    altitude_string = \" altitude \"+str(metadata[\"ZDEF\"][altitude_step])\n",
    "    zed_multiplier = result_zeds\n",
    "else:\n",
    "    altitude_step = 0\n",
    "    altitude_string = \"\"\n",
    "    zed_multiplier = 1\n",
    "\n",
    "heat = data[result_type][time_step*(zed_multiplier)+altitude_step].reshape(len(metadata[\"YDEF\"]), len(metadata[\"XDEF\"]))\n",
    "lenX = len(metadata[\"XDEF\"])\n",
    "lenY = len(metadata[\"YDEF\"])\n",
    "\n",
    "df = pd.DataFrame(heat, index= metadata[\"YDEF\"], columns=metadata[\"XDEF\"])\n",
    "\n",
    "plt.figure(0,(12.,5.))\n",
    "heatmap = plt.pcolor(df)\n",
    "plt.title(result_type+\" \"+metadata[\"TDEF\"][time_step]+altitude_string)\n",
    "plt.yticks(np.arange(0, lenY, 5), df.index[0::5])\n",
    "plt.xticks(np.arange(0, lenX, 10), df.columns[0::10])\n",
    "plt.colorbar(heatmap)\n",
    "plt.show()"
   ]
  }
 ],
 "metadata": {
  "kernelspec": {
   "display_name": "Python 3",
   "language": "python",
   "name": "python3"
  },
  "language_info": {
   "codemirror_mode": {
    "name": "ipython",
    "version": 3
   },
   "file_extension": ".py",
   "mimetype": "text/x-python",
   "name": "python",
   "nbconvert_exporter": "python",
   "pygments_lexer": "ipython3",
   "version": "3.6.8"
  }
 },
 "nbformat": 4,
 "nbformat_minor": 4
}
